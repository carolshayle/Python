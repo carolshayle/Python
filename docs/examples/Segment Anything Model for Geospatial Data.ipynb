{
  "cells": [
    {
      "cell_type": "markdown",
      "metadata": {
        "id": "gpmjt5Mn2hiW"
      },
      "source": [
        "# Segment Anything Model for Geospatial Data\n",
        "\n",
        "[![image](https://studiolab.sagemaker.aws/studiolab.svg)](https://studiolab.sagemaker.aws/import/github/opengeos/segment-geospatial/blob/main/docs/examples/satellite.ipynb)\n",
        "[![image](https://colab.research.google.com/assets/colab-badge.svg)](https://colab.research.google.com/github/opengeos/segment-geospatial/blob/main/docs/examples/satellite.ipynb)\n",
        "\n",
        "This notebook shows how to use segment satellite imagery using the Segment Anything Model (SAM) with a few lines of code.\n",
        "\n",
        "Make sure you use GPU runtime for this notebook. For Google Colab, go to `Runtime` -> `Change runtime type` and select `GPU` as the hardware accelerator."
      ]
    },
    {
      "cell_type": "markdown",
      "metadata": {
        "id": "ERZ6lCUr2hib"
      },
      "source": [
        "## Install dependencies\n",
        "\n",
        "Uncomment and run the following cell to install the required dependencies.\n"
      ]
    },
    {
      "cell_type": "code",
      "execution_count": null,
      "metadata": {
        "colab": {
          "base_uri": "https://localhost:8080/"
        },
        "outputId": "59266f37-8e2d-48ce-a090-ac960e44e5d8",
        "id": "lMoIJiPF2hib"
      },
      "outputs": [
        {
          "output_type": "stream",
          "name": "stdout",
          "text": [
            "\u001b[2K     \u001b[90m━━━━━━━━━━━━━━━━━━━━━━━━━━━━━━━━━━━━━━━━\u001b[0m \u001b[32m56.6/56.6 kB\u001b[0m \u001b[31m3.4 MB/s\u001b[0m eta \u001b[36m0:00:00\u001b[0m\n",
            "\u001b[2K     \u001b[90m━━━━━━━━━━━━━━━━━━━━━━━━━━━━━━━━━━━━━━━\u001b[0m \u001b[32m152.8/152.8 kB\u001b[0m \u001b[31m9.5 MB/s\u001b[0m eta \u001b[36m0:00:00\u001b[0m\n",
            "\u001b[?25h"
          ]
        }
      ],
      "source": [
        "!pip install segment-geospatial -q"
      ]
    },
    {
      "cell_type": "markdown",
      "metadata": {
        "id": "npptwFT_2hic"
      },
      "source": [
        "## Import libraries"
      ]
    },
    {
      "cell_type": "code",
      "execution_count": null,
      "metadata": {
        "id": "Ftznkgly2hid"
      },
      "outputs": [],
      "source": [
        "import os\n",
        "import leafmap\n",
        "from samgeo import SamGeo, tms_to_geotiff, get_basemaps"
      ]
    },
    {
      "cell_type": "markdown",
      "metadata": {
        "id": "30uXI6dL2hid"
      },
      "source": [
        "## Create an interactive map"
      ]
    },
    {
      "cell_type": "code",
      "execution_count": null,
      "metadata": {
        "id": "FrjwCur12hie"
      },
      "outputs": [],
      "source": [
        "m = leafmap.Map(center=[29.676840, -95.369222], zoom=19)\n",
        "m.add_basemap(\"SATELLITE\")\n",
        "m"
      ]
    },
    {
      "cell_type": "markdown",
      "metadata": {
        "id": "ZHtcqGie2hie"
      },
      "source": [
        "Pan and zoom the map to select the area of interest. Use the draw tools to draw a polygon or rectangle on the map"
      ]
    },
    {
      "cell_type": "code",
      "execution_count": null,
      "metadata": {
        "id": "pKrKfbW32hif"
      },
      "outputs": [],
      "source": [
        "if m.user_roi_bounds() is not None:\n",
        "    bbox = m.user_roi_bounds()\n",
        "else:\n",
        "    bbox = [-95.3704, 29.6762, -95.368, 29.6775]"
      ]
    },
    {
      "cell_type": "markdown",
      "metadata": {
        "id": "ggTe6OyO2hif"
      },
      "source": [
        "## Download map tiles\n",
        "\n",
        "Download maps tiles and mosaic them into a single GeoTIFF file"
      ]
    },
    {
      "cell_type": "code",
      "execution_count": null,
      "metadata": {
        "id": "MjtZOFn82hig"
      },
      "outputs": [],
      "source": [
        "image = \"satellite.tif\""
      ]
    },
    {
      "cell_type": "markdown",
      "metadata": {
        "id": "v723DjmG2hig"
      },
      "source": [
        "Besides the `satellite` basemap, you can use any of the following basemaps returned by the `get_basemaps()` function:"
      ]
    },
    {
      "cell_type": "code",
      "execution_count": null,
      "metadata": {
        "id": "GqVwslkq2hig"
      },
      "outputs": [],
      "source": [
        "# get_basemaps().keys()"
      ]
    },
    {
      "cell_type": "markdown",
      "metadata": {
        "id": "a7IRsxcd2hih"
      },
      "source": [
        "Specify the basemap as the source."
      ]
    },
    {
      "cell_type": "code",
      "execution_count": null,
      "metadata": {
        "id": "EhXTWV5M2hih"
      },
      "outputs": [],
      "source": [
        "tms_to_geotiff(output=image, bbox=bbox, zoom=20, source=\"Satellite\", overwrite=True)"
      ]
    },
    {
      "cell_type": "markdown",
      "metadata": {
        "id": "RVUKw49i2hih"
      },
      "source": [
        "You can also use your own image. Uncomment and run the following cell to use your own image."
      ]
    },
    {
      "cell_type": "code",
      "execution_count": null,
      "metadata": {
        "id": "4_zOghn82hih"
      },
      "outputs": [],
      "source": [
        "# image = '/path/to/your/own/image.tif'"
      ]
    },
    {
      "cell_type": "markdown",
      "metadata": {
        "id": "XyryONRg2hih"
      },
      "source": [
        "Display the downloaded image on the map."
      ]
    },
    {
      "cell_type": "code",
      "execution_count": null,
      "metadata": {
        "id": "7V_R9L8Z2hih"
      },
      "outputs": [],
      "source": [
        "m.layers[-1].visible = False  # turn off the basemap\n",
        "m.add_raster(image, layer_name=\"Image\")\n",
        "m"
      ]
    },
    {
      "cell_type": "markdown",
      "metadata": {
        "id": "BhBMoFnO2hii"
      },
      "source": [
        "![](https://i.imgur.com/KAm84IY.png)"
      ]
    },
    {
      "cell_type": "markdown",
      "metadata": {
        "id": "V0vpeZr12hii"
      },
      "source": [
        "## Initialize SAM class"
      ]
    },
    {
      "cell_type": "code",
      "execution_count": null,
      "metadata": {
        "id": "2twDvA7M2hii"
      },
      "outputs": [],
      "source": [
        "sam = SamGeo(\n",
        "    model_type=\"vit_h\",\n",
        "    checkpoint=\"sam_vit_h_4b8939.pth\",\n",
        "    sam_kwargs=None,\n",
        ")"
      ]
    },
    {
      "cell_type": "markdown",
      "metadata": {
        "id": "nKLFeVEq2hii"
      },
      "source": [
        "## Segment the image\n",
        "\n",
        "Set `batch=True` to segment the image in batches. This is useful for large images that cannot fit in memory."
      ]
    },
    {
      "cell_type": "code",
      "execution_count": null,
      "metadata": {
        "id": "aZ3h79vd2hii"
      },
      "outputs": [],
      "source": [
        "mask = \"segment.tif\"\n",
        "sam.generate(\n",
        "    image, mask, batch=True, foreground=True, erosion_kernel=(3, 3), mask_multiplier=255\n",
        ")"
      ]
    },
    {
      "cell_type": "markdown",
      "metadata": {
        "id": "o9JZWOEX2hii"
      },
      "source": [
        "## Polygonize the raster data\n",
        "\n",
        "Save the segmentation results as a GeoPackage file."
      ]
    },
    {
      "cell_type": "code",
      "execution_count": null,
      "metadata": {
        "id": "olcQbgfE2hij"
      },
      "outputs": [],
      "source": [
        "vector = \"segment.gpkg\"\n",
        "sam.tiff_to_gpkg(mask, vector, simplify_tolerance=None)"
      ]
    },
    {
      "cell_type": "markdown",
      "metadata": {
        "id": "fGVSX2we2hij"
      },
      "source": [
        "You can also save the segmentation results as any vector data format supported by GeoPandas."
      ]
    },
    {
      "cell_type": "code",
      "execution_count": null,
      "metadata": {
        "id": "_cnV0fpf2hij"
      },
      "outputs": [],
      "source": [
        "shapefile = \"segment.shp\"\n",
        "sam.tiff_to_vector(mask, shapefile)"
      ]
    },
    {
      "cell_type": "markdown",
      "metadata": {
        "id": "QqGm4SUz2hij"
      },
      "source": [
        "## Visualize the results"
      ]
    },
    {
      "cell_type": "code",
      "execution_count": null,
      "metadata": {
        "id": "Cy4a0QwK2hij"
      },
      "outputs": [],
      "source": [
        "style = {\n",
        "    \"color\": \"#3388ff\",\n",
        "    \"weight\": 2,\n",
        "    \"fillColor\": \"#7c4185\",\n",
        "    \"fillOpacity\": 0.5,\n",
        "}\n",
        "m.add_vector(vector, layer_name=\"Vector\", style=style)\n",
        "m"
      ]
    },
    {
      "cell_type": "markdown",
      "metadata": {
        "id": "ApcOkulq2hik"
      },
      "source": [
        "![](https://i.imgur.com/Ysq3u7E.png)"
      ]
    }
  ],
  "metadata": {
    "accelerator": "GPU",
    "colab": {
      "provenance": []
    },
    "gpuClass": "standard",
    "kernelspec": {
      "display_name": "Python 3",
      "name": "python3"
    },
    "language_info": {
      "codemirror_mode": {
        "name": "ipython",
        "version": 3
      },
      "file_extension": ".py",
      "mimetype": "text/x-python",
      "name": "python",
      "nbconvert_exporter": "python",
      "pygments_lexer": "ipython3",
      "version": "3.9.16"
    }
  },
  "nbformat": 4,
  "nbformat_minor": 0
}